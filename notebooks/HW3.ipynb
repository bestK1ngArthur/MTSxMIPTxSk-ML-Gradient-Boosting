{
 "cells": [
  {
   "cell_type": "code",
   "execution_count": 1,
   "metadata": {},
   "outputs": [],
   "source": [
    "import pandas as pd\n",
    "import matplotlib.pyplot as plt\n",
    "import numpy as np\n",
    "\n",
    "from numpy import mean\n",
    "from numpy import std\n",
    "from sklearn.datasets import make_classification\n",
    "from sklearn.model_selection import cross_val_score\n",
    "from sklearn.model_selection import RepeatedStratifiedKFold\n",
    "from sklearn.model_selection import GridSearchCV\n",
    "from sklearn.model_selection import RandomizedSearchCV\n",
    "from sklearn.model_selection import train_test_split\n",
    "from sklearn.linear_model import LogisticRegression\n",
    "from sklearn.ensemble import RandomForestClassifier\n",
    "from sklearn.ensemble import StackingClassifier\n",
    "from lightgbm import LGBMClassifier\n",
    "from matplotlib import pyplot"
   ]
  },
  {
   "cell_type": "code",
   "execution_count": 2,
   "metadata": {},
   "outputs": [],
   "source": [
    "train = pd.read_csv('../data/raw/application_train.csv')\n",
    "test = pd.read_csv('../data/raw/application_test.csv')\n",
    "sample_submission = pd.read_csv('../data/raw/sample_submission.csv')"
   ]
  },
  {
   "cell_type": "markdown",
   "metadata": {},
   "source": [
    "# Домашнее задание №3\n",
    "\n",
    "Задание выполняется на датасете Home credit на kaggle.\n",
    "Вы можете использовать любую реализацию градиентного бустинга по вашему выбору: Lightgbm, Catboost ...\n",
    "1. Взять три гиперпараметра для градиентного бустинга, и для каждого проварьировать один из них, фиксируя остальные. Построить графики зависимости метрики на кросс-валидации от параметра. Прокомментируйте, какие параметры и как влияют на переобучение.\n",
    "2. Сделать с помощью GridSearchCV и RandomizedSearchCV отбор наилучших параметров.\n",
    "3. Построить график feature importance. Какие признаки оказались самыми важными?\n",
    "\n",
    "Теперь переходим к стекингу.\n",
    "Используем реализацию https://scikit-learn.org/stable/modules/generated/sklearn.ensemble.StackingClassifier.html\n",
    "1. Построить стекинг для 5 различных моделей по вашему выбору с разными параметрами. Можете взять любые, например 2 бустинга, 2 случайных леса, лог рег. Записать скор на тестовой выборке.\n",
    "2. Теперь уберем из ансамбля наилучшую модель и снова постройте стекинг. Как изменился результат? Прокомментируйте."
   ]
  },
  {
   "cell_type": "markdown",
   "metadata": {},
   "source": [
    "## Градиентный бустинг\n",
    "\n",
    "### Задание 1"
   ]
  },
  {
   "cell_type": "code",
   "execution_count": 3,
   "metadata": {},
   "outputs": [],
   "source": [
    "features = ['AMT_CREDIT', 'AMT_ANNUITY', 'AMT_INCOME_TOTAL']\n",
    "target = 'TARGET'\n",
    "\n",
    "train_data = train.copy()\n",
    "train_data[features] = train_data[features].fillna(0)\n",
    "\n",
    "X, y = train_data[features], train_data[target]"
   ]
  },
  {
   "cell_type": "code",
   "execution_count": 4,
   "metadata": {},
   "outputs": [
    {
     "name": "stdout",
     "output_type": "stream",
     "text": [
      "10:\t0.919271 (0.000001)\n",
      "50:\t0.919271 (0.000001)\n",
      "100:\t0.919268 (0.000006)\n",
      "500:\t0.919226 (0.000016)\n",
      "1000:\t0.919096 (0.000078)\n",
      "5000:\t0.916819 (0.000299)\n",
      "10000:\t0.912904 (0.000334)\n"
     ]
    },
    {
     "data": {
      "image/png": "[encoded data removed]",
      "text/plain": [
       "<Figure size 432x288 with 1 Axes>"
      ]
     },
     "metadata": {
      "needs_background": "light"
     },
     "output_type": "display_data"
    },
    {
     "name": "stdout",
     "output_type": "stream",
     "text": [
      "1:\t0.919271 (0.000001)\n",
      "2:\t0.919271 (0.000001)\n",
      "3:\t0.919271 (0.000001)\n",
      "4:\t0.919271 (0.000001)\n",
      "5:\t0.919271 (0.000001)\n",
      "6:\t0.919274 (0.000007)\n",
      "7:\t0.919271 (0.000001)\n",
      "8:\t0.919265 (0.000022)\n",
      "9:\t0.919265 (0.000022)\n",
      "10:\t0.919232 (0.000035)\n",
      "11:\t0.919203 (0.000057)\n",
      "12:\t0.919174 (0.000054)\n",
      "13:\t0.919118 (0.000071)\n",
      "14:\t0.919063 (0.000112)\n"
     ]
    },
    {
     "data": {
      "image/png": "[encoded data removed]",
      "text/plain": [
       "<Figure size 432x288 with 1 Axes>"
      ]
     },
     "metadata": {
      "needs_background": "light"
     },
     "output_type": "display_data"
    },
    {
     "name": "stdout",
     "output_type": "stream",
     "text": [
      "0.0001:\t0.919271 (0.000001)\n",
      "0.0010:\t0.919271 (0.000001)\n",
      "0.0100:\t0.919271 (0.000001)\n",
      "0.1000:\t0.919268 (0.000006)\n",
      "0.5000:\t0.918767 (0.000108)\n",
      "1.0000:\t0.914777 (0.000397)\n"
     ]
    },
    {
     "data": {
      "image/png": "[encoded data removed]",
      "text/plain": [
       "<Figure size 432x288 with 1 Axes>"
      ]
     },
     "metadata": {
      "needs_background": "light"
     },
     "output_type": "display_data"
    }
   ],
   "source": [
    "def evaluate_model(model, X, y):\n",
    "    scores = cross_val_score(model, X, y, scoring='accuracy')\n",
    "    return scores\n",
    "\n",
    "def get_trees_count_models():\n",
    "    models = dict()\n",
    "    trees = [10, 50, 100, 500, 1000, 5000, 10000]\n",
    "    for n in trees:\n",
    "        models[str(n)] = LGBMClassifier(n_estimators=n)\n",
    "    return models\n",
    "\n",
    "def get_tree_depth_models():\n",
    "    models = dict()\n",
    "    for i in range(1,15):\n",
    "        models[str(i)] = LGBMClassifier(max_depth=i, num_leaves=2**i)\n",
    "    return models\n",
    "\n",
    "def get_learning_rate_models():\n",
    "    models = dict()\n",
    "    rates = [0.0001, 0.001, 0.01, 0.1, 0.5, 1.0]\n",
    "    for r in rates:\n",
    "        key = '%.4f' % r\n",
    "        models[key] = LGBMClassifier(learning_rate=r)\n",
    "    return models\n",
    "\n",
    "# Trees count\n",
    "\n",
    "models = get_trees_count_models()\n",
    "results, names = list(), list()\n",
    "\n",
    "for name, model in models.items():\n",
    "    scores = evaluate_model(model, train_data[features], train_data[target])\n",
    "    results.append(scores)\n",
    "    names.append(name)\n",
    "    print('%s:\\t%.6f (%.6f)' % (name, mean(scores), std(scores)))\n",
    "    \n",
    "pyplot.boxplot(results, labels=names, showmeans=True)\n",
    "pyplot.show()\n",
    "\n",
    "# Tree depth\n",
    "\n",
    "models = get_tree_depth_models()\n",
    "results, names = list(), list()\n",
    "\n",
    "for name, model in models.items():\n",
    "    scores = evaluate_model(model, train_data[features], train_data[target])\n",
    "    results.append(scores)\n",
    "    names.append(name)\n",
    "    print('%s:\\t%.6f (%.6f)' % (name, mean(scores), std(scores)))\n",
    "\n",
    "pyplot.boxplot(results, labels=names, showmeans=True)\n",
    "pyplot.show()\n",
    "\n",
    "# Learning rate\n",
    "\n",
    "models = get_learning_rate_models()\n",
    "results, names = list(), list()\n",
    "\n",
    "for name, model in models.items():\n",
    "    scores = evaluate_model(model, train_data[features], train_data[target])\n",
    "    results.append(scores)\n",
    "    names.append(name)\n",
    "    print('%s:\\t%.6f (%.6f)' % (name, mean(scores), std(scores)))\n",
    "\n",
    "pyplot.boxplot(results, labels=names, showmeans=True)\n",
    "pyplot.show()"
   ]
  },
  {
   "cell_type": "markdown",
   "metadata": {},
   "source": [
    "### Задание 2"
   ]
  },
  {
   "cell_type": "code",
   "execution_count": 5,
   "metadata": {},
   "outputs": [],
   "source": [
    "parameters = { 'n_estimators': range (10, 51, 10),\n",
    "               'max_depth': range (1,10, 2),\n",
    "               'min_samples_leaf': range (1,8) }\n",
    "\n",
    "clf = RandomForestClassifier()"
   ]
  },
  {
   "cell_type": "code",
   "execution_count": 6,
   "metadata": {},
   "outputs": [
    {
     "data": {
      "text/plain": [
       "{'max_depth': 7, 'min_samples_leaf': 1, 'n_estimators': 20}"
      ]
     },
     "execution_count": 6,
     "metadata": {},
     "output_type": "execute_result"
    }
   ],
   "source": [
    "grid = GridSearchCV(clf, parameters)\n",
    "grid.fit(X, y)\n",
    "grid.best_params_"
   ]
  },
  {
   "cell_type": "code",
   "execution_count": 7,
   "metadata": {},
   "outputs": [
    {
     "data": {
      "text/plain": [
       "{'n_estimators': 20, 'min_samples_leaf': 1, 'max_depth': 5}"
      ]
     },
     "execution_count": 7,
     "metadata": {},
     "output_type": "execute_result"
    }
   ],
   "source": [
    "rnd = RandomizedSearchCV(clf, parameters)\n",
    "rnd.fit(X, y)\n",
    "rnd.best_params_"
   ]
  },
  {
   "cell_type": "markdown",
   "metadata": {},
   "source": [
    "### Задание 3"
   ]
  },
  {
   "cell_type": "code",
   "execution_count": 8,
   "metadata": {},
   "outputs": [
    {
     "data": {
      "image/png": "[encoded data removed]",
      "text/plain": [
       "<Figure size 432x288 with 1 Axes>"
      ]
     },
     "metadata": {
      "needs_background": "light"
     },
     "output_type": "display_data"
    }
   ],
   "source": [
    "clf.fit(X, y)\n",
    "\n",
    "std = np.std([clf.feature_importances_ for tree in clf.estimators_], axis=0)\n",
    "feature_importances = pd.Series(std, index=X.columns.values)\n",
    "\n",
    "fig, ax = plt.subplots()\n",
    "feature_importances.plot.bar(yerr=std, ax=ax)\n",
    "ax.set_title(\"Feature importances\")\n",
    "ax.set_ylabel(\"Mean decrease in impurity\")\n",
    "fig.tight_layout()"
   ]
  },
  {
   "cell_type": "markdown",
   "metadata": {},
   "source": [
    "По графику видно, что `AMT_ANNUITY`."
   ]
  },
  {
   "cell_type": "markdown",
   "metadata": {},
   "source": [
    "## Стекинг\n",
    "\n",
    "### Задание 1"
   ]
  },
  {
   "cell_type": "code",
   "execution_count": 9,
   "metadata": {},
   "outputs": [],
   "source": [
    "estimators = [\n",
    "    ('rf1', RandomForestClassifier(n_estimators=10)),\n",
    "    ('rf2', RandomForestClassifier(n_estimators=40, random_state=42)),\n",
    "    ('b1', LGBMClassifier(n_estimators=50)),\n",
    "    ('b2', LGBMClassifier(max_depth=5, num_leaves=2**5)),\n",
    "    ('lr', LogisticRegression())\n",
    "]"
   ]
  },
  {
   "cell_type": "code",
   "execution_count": 10,
   "metadata": {},
   "outputs": [
    {
     "data": {
      "text/plain": [
       "0.91928770259372"
      ]
     },
     "execution_count": 10,
     "metadata": {},
     "output_type": "execute_result"
    }
   ],
   "source": [
    "clf = StackingClassifier(estimators=estimators)\n",
    "X_train, X_test, y_train, y_test = train_test_split(X, y, stratify=y, random_state=42)\n",
    "score = clf.fit(X_train, y_train).score(X_test, y_test)\n",
    "score"
   ]
  },
  {
   "cell_type": "code",
   "execution_count": 11,
   "metadata": {
    "scrolled": true
   },
   "outputs": [
    {
     "name": "stdout",
     "output_type": "stream",
     "text": [
      "Accuracy: 0.904706 [rf1]\n",
      "Accuracy: 0.905981 [rf2]\n",
      "Accuracy: 0.919271 [b1]\n",
      "Accuracy: 0.919271 [b2]\n",
      "Accuracy: 0.919271 [lr]\n"
     ]
    }
   ],
   "source": [
    "for estimator in estimators:\n",
    "    scores = evaluate_model(estimator[1], train_data[features], train_data[target])\n",
    "    print(\"Accuracy: %0.6f [%s]\" % (scores.mean(), estimator[0]))"
   ]
  },
  {
   "cell_type": "markdown",
   "metadata": {},
   "source": [
    "### Задание 2"
   ]
  },
  {
   "cell_type": "markdown",
   "metadata": {},
   "source": [
    "Убираем модель `LGBMClassifier(n_estimators=50)`"
   ]
  },
  {
   "cell_type": "code",
   "execution_count": 12,
   "metadata": {},
   "outputs": [
    {
     "data": {
      "text/plain": [
       "0.9193527407060538"
      ]
     },
     "execution_count": 12,
     "metadata": {},
     "output_type": "execute_result"
    }
   ],
   "source": [
    "estimators = [\n",
    "    ('rf1', RandomForestClassifier(n_estimators=10)),\n",
    "    ('rf2', RandomForestClassifier(n_estimators=40, random_state=0)),\n",
    "    ('b2', LGBMClassifier(max_depth=5, num_leaves=2**5)),\n",
    "    ('lr', LogisticRegression())\n",
    "]\n",
    "\n",
    "clf = StackingClassifier(estimators=estimators)\n",
    "score = clf.fit(X, y).score(X_test, y_test)\n",
    "score"
   ]
  },
  {
   "cell_type": "markdown",
   "metadata": {},
   "source": [
    "По полученным результатам score практически не изменился."
   ]
  }
 ],
 "metadata": {
  "kernelspec": {
   "display_name": "Python 3 (ipykernel)",
   "language": "python",
   "name": "python3"
  },
  "language_info": {
   "codemirror_mode": {
    "name": "ipython",
    "version": 3
   },
   "file_extension": ".py",
   "mimetype": "text/x-python",
   "name": "python",
   "nbconvert_exporter": "python",
   "pygments_lexer": "ipython3",
   "version": "3.8.9"
  }
 },
 "nbformat": 4,
 "nbformat_minor": 1
}
